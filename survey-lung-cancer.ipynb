{
 "cells": [
  {
   "cell_type": "code",
   "execution_count": 1,
   "id": "66010c04",
   "metadata": {
    "execution": {
     "iopub.execute_input": "2024-09-24T14:11:16.283876Z",
     "iopub.status.busy": "2024-09-24T14:11:16.282947Z",
     "iopub.status.idle": "2024-09-24T14:11:18.817244Z",
     "shell.execute_reply": "2024-09-24T14:11:18.815759Z"
    },
    "papermill": {
     "duration": 2.548338,
     "end_time": "2024-09-24T14:11:18.820096",
     "exception": false,
     "start_time": "2024-09-24T14:11:16.271758",
     "status": "completed"
    },
    "tags": []
   },
   "outputs": [],
   "source": [
    "import pandas as pd \n",
    "import numpy as np \n",
    "import matplotlib.pyplot as plt \n",
    "\n",
    "from sklearn.metrics import classification_report,confusion_matrix"
   ]
  },
  {
   "cell_type": "code",
   "execution_count": 2,
   "id": "b747416f",
   "metadata": {
    "execution": {
     "iopub.execute_input": "2024-09-24T14:11:18.839730Z",
     "iopub.status.busy": "2024-09-24T14:11:18.838551Z",
     "iopub.status.idle": "2024-09-24T14:11:18.890648Z",
     "shell.execute_reply": "2024-09-24T14:11:18.889566Z"
    },
    "papermill": {
     "duration": 0.064029,
     "end_time": "2024-09-24T14:11:18.893003",
     "exception": false,
     "start_time": "2024-09-24T14:11:18.828974",
     "status": "completed"
    },
    "tags": []
   },
   "outputs": [
    {
     "data": {
      "text/html": [
       "<div>\n",
       "<style scoped>\n",
       "    .dataframe tbody tr th:only-of-type {\n",
       "        vertical-align: middle;\n",
       "    }\n",
       "\n",
       "    .dataframe tbody tr th {\n",
       "        vertical-align: top;\n",
       "    }\n",
       "\n",
       "    .dataframe thead th {\n",
       "        text-align: right;\n",
       "    }\n",
       "</style>\n",
       "<table border=\"1\" class=\"dataframe\">\n",
       "  <thead>\n",
       "    <tr style=\"text-align: right;\">\n",
       "      <th></th>\n",
       "      <th>GENDER</th>\n",
       "      <th>AGE</th>\n",
       "      <th>SMOKING</th>\n",
       "      <th>YELLOW_FINGERS</th>\n",
       "      <th>ANXIETY</th>\n",
       "      <th>PEER_PRESSURE</th>\n",
       "      <th>CHRONIC DISEASE</th>\n",
       "      <th>FATIGUE</th>\n",
       "      <th>ALLERGY</th>\n",
       "      <th>WHEEZING</th>\n",
       "      <th>ALCOHOL CONSUMING</th>\n",
       "      <th>COUGHING</th>\n",
       "      <th>SHORTNESS OF BREATH</th>\n",
       "      <th>SWALLOWING DIFFICULTY</th>\n",
       "      <th>CHEST PAIN</th>\n",
       "      <th>LUNG_CANCER</th>\n",
       "    </tr>\n",
       "  </thead>\n",
       "  <tbody>\n",
       "    <tr>\n",
       "      <th>0</th>\n",
       "      <td>M</td>\n",
       "      <td>69</td>\n",
       "      <td>1</td>\n",
       "      <td>2</td>\n",
       "      <td>2</td>\n",
       "      <td>1</td>\n",
       "      <td>1</td>\n",
       "      <td>2</td>\n",
       "      <td>1</td>\n",
       "      <td>2</td>\n",
       "      <td>2</td>\n",
       "      <td>2</td>\n",
       "      <td>2</td>\n",
       "      <td>2</td>\n",
       "      <td>2</td>\n",
       "      <td>YES</td>\n",
       "    </tr>\n",
       "    <tr>\n",
       "      <th>1</th>\n",
       "      <td>M</td>\n",
       "      <td>74</td>\n",
       "      <td>2</td>\n",
       "      <td>1</td>\n",
       "      <td>1</td>\n",
       "      <td>1</td>\n",
       "      <td>2</td>\n",
       "      <td>2</td>\n",
       "      <td>2</td>\n",
       "      <td>1</td>\n",
       "      <td>1</td>\n",
       "      <td>1</td>\n",
       "      <td>2</td>\n",
       "      <td>2</td>\n",
       "      <td>2</td>\n",
       "      <td>YES</td>\n",
       "    </tr>\n",
       "    <tr>\n",
       "      <th>2</th>\n",
       "      <td>F</td>\n",
       "      <td>59</td>\n",
       "      <td>1</td>\n",
       "      <td>1</td>\n",
       "      <td>1</td>\n",
       "      <td>2</td>\n",
       "      <td>1</td>\n",
       "      <td>2</td>\n",
       "      <td>1</td>\n",
       "      <td>2</td>\n",
       "      <td>1</td>\n",
       "      <td>2</td>\n",
       "      <td>2</td>\n",
       "      <td>1</td>\n",
       "      <td>2</td>\n",
       "      <td>NO</td>\n",
       "    </tr>\n",
       "    <tr>\n",
       "      <th>3</th>\n",
       "      <td>M</td>\n",
       "      <td>63</td>\n",
       "      <td>2</td>\n",
       "      <td>2</td>\n",
       "      <td>2</td>\n",
       "      <td>1</td>\n",
       "      <td>1</td>\n",
       "      <td>1</td>\n",
       "      <td>1</td>\n",
       "      <td>1</td>\n",
       "      <td>2</td>\n",
       "      <td>1</td>\n",
       "      <td>1</td>\n",
       "      <td>2</td>\n",
       "      <td>2</td>\n",
       "      <td>NO</td>\n",
       "    </tr>\n",
       "    <tr>\n",
       "      <th>4</th>\n",
       "      <td>F</td>\n",
       "      <td>63</td>\n",
       "      <td>1</td>\n",
       "      <td>2</td>\n",
       "      <td>1</td>\n",
       "      <td>1</td>\n",
       "      <td>1</td>\n",
       "      <td>1</td>\n",
       "      <td>1</td>\n",
       "      <td>2</td>\n",
       "      <td>1</td>\n",
       "      <td>2</td>\n",
       "      <td>2</td>\n",
       "      <td>1</td>\n",
       "      <td>1</td>\n",
       "      <td>NO</td>\n",
       "    </tr>\n",
       "    <tr>\n",
       "      <th>...</th>\n",
       "      <td>...</td>\n",
       "      <td>...</td>\n",
       "      <td>...</td>\n",
       "      <td>...</td>\n",
       "      <td>...</td>\n",
       "      <td>...</td>\n",
       "      <td>...</td>\n",
       "      <td>...</td>\n",
       "      <td>...</td>\n",
       "      <td>...</td>\n",
       "      <td>...</td>\n",
       "      <td>...</td>\n",
       "      <td>...</td>\n",
       "      <td>...</td>\n",
       "      <td>...</td>\n",
       "      <td>...</td>\n",
       "    </tr>\n",
       "    <tr>\n",
       "      <th>304</th>\n",
       "      <td>F</td>\n",
       "      <td>56</td>\n",
       "      <td>1</td>\n",
       "      <td>1</td>\n",
       "      <td>1</td>\n",
       "      <td>2</td>\n",
       "      <td>2</td>\n",
       "      <td>2</td>\n",
       "      <td>1</td>\n",
       "      <td>1</td>\n",
       "      <td>2</td>\n",
       "      <td>2</td>\n",
       "      <td>2</td>\n",
       "      <td>2</td>\n",
       "      <td>1</td>\n",
       "      <td>YES</td>\n",
       "    </tr>\n",
       "    <tr>\n",
       "      <th>305</th>\n",
       "      <td>M</td>\n",
       "      <td>70</td>\n",
       "      <td>2</td>\n",
       "      <td>1</td>\n",
       "      <td>1</td>\n",
       "      <td>1</td>\n",
       "      <td>1</td>\n",
       "      <td>2</td>\n",
       "      <td>2</td>\n",
       "      <td>2</td>\n",
       "      <td>2</td>\n",
       "      <td>2</td>\n",
       "      <td>2</td>\n",
       "      <td>1</td>\n",
       "      <td>2</td>\n",
       "      <td>YES</td>\n",
       "    </tr>\n",
       "    <tr>\n",
       "      <th>306</th>\n",
       "      <td>M</td>\n",
       "      <td>58</td>\n",
       "      <td>2</td>\n",
       "      <td>1</td>\n",
       "      <td>1</td>\n",
       "      <td>1</td>\n",
       "      <td>1</td>\n",
       "      <td>1</td>\n",
       "      <td>2</td>\n",
       "      <td>2</td>\n",
       "      <td>2</td>\n",
       "      <td>2</td>\n",
       "      <td>1</td>\n",
       "      <td>1</td>\n",
       "      <td>2</td>\n",
       "      <td>YES</td>\n",
       "    </tr>\n",
       "    <tr>\n",
       "      <th>307</th>\n",
       "      <td>M</td>\n",
       "      <td>67</td>\n",
       "      <td>2</td>\n",
       "      <td>1</td>\n",
       "      <td>2</td>\n",
       "      <td>1</td>\n",
       "      <td>1</td>\n",
       "      <td>2</td>\n",
       "      <td>2</td>\n",
       "      <td>1</td>\n",
       "      <td>2</td>\n",
       "      <td>2</td>\n",
       "      <td>2</td>\n",
       "      <td>1</td>\n",
       "      <td>2</td>\n",
       "      <td>YES</td>\n",
       "    </tr>\n",
       "    <tr>\n",
       "      <th>308</th>\n",
       "      <td>M</td>\n",
       "      <td>62</td>\n",
       "      <td>1</td>\n",
       "      <td>1</td>\n",
       "      <td>1</td>\n",
       "      <td>2</td>\n",
       "      <td>1</td>\n",
       "      <td>2</td>\n",
       "      <td>2</td>\n",
       "      <td>2</td>\n",
       "      <td>2</td>\n",
       "      <td>1</td>\n",
       "      <td>1</td>\n",
       "      <td>2</td>\n",
       "      <td>1</td>\n",
       "      <td>YES</td>\n",
       "    </tr>\n",
       "  </tbody>\n",
       "</table>\n",
       "<p>309 rows × 16 columns</p>\n",
       "</div>"
      ],
      "text/plain": [
       "    GENDER  AGE  SMOKING  YELLOW_FINGERS  ANXIETY  PEER_PRESSURE  \\\n",
       "0        M   69        1               2        2              1   \n",
       "1        M   74        2               1        1              1   \n",
       "2        F   59        1               1        1              2   \n",
       "3        M   63        2               2        2              1   \n",
       "4        F   63        1               2        1              1   \n",
       "..     ...  ...      ...             ...      ...            ...   \n",
       "304      F   56        1               1        1              2   \n",
       "305      M   70        2               1        1              1   \n",
       "306      M   58        2               1        1              1   \n",
       "307      M   67        2               1        2              1   \n",
       "308      M   62        1               1        1              2   \n",
       "\n",
       "     CHRONIC DISEASE  FATIGUE   ALLERGY   WHEEZING  ALCOHOL CONSUMING  \\\n",
       "0                  1         2         1         2                  2   \n",
       "1                  2         2         2         1                  1   \n",
       "2                  1         2         1         2                  1   \n",
       "3                  1         1         1         1                  2   \n",
       "4                  1         1         1         2                  1   \n",
       "..               ...       ...       ...       ...                ...   \n",
       "304                2         2         1         1                  2   \n",
       "305                1         2         2         2                  2   \n",
       "306                1         1         2         2                  2   \n",
       "307                1         2         2         1                  2   \n",
       "308                1         2         2         2                  2   \n",
       "\n",
       "     COUGHING  SHORTNESS OF BREATH  SWALLOWING DIFFICULTY  CHEST PAIN  \\\n",
       "0           2                    2                      2           2   \n",
       "1           1                    2                      2           2   \n",
       "2           2                    2                      1           2   \n",
       "3           1                    1                      2           2   \n",
       "4           2                    2                      1           1   \n",
       "..        ...                  ...                    ...         ...   \n",
       "304         2                    2                      2           1   \n",
       "305         2                    2                      1           2   \n",
       "306         2                    1                      1           2   \n",
       "307         2                    2                      1           2   \n",
       "308         1                    1                      2           1   \n",
       "\n",
       "    LUNG_CANCER  \n",
       "0           YES  \n",
       "1           YES  \n",
       "2            NO  \n",
       "3            NO  \n",
       "4            NO  \n",
       "..          ...  \n",
       "304         YES  \n",
       "305         YES  \n",
       "306         YES  \n",
       "307         YES  \n",
       "308         YES  \n",
       "\n",
       "[309 rows x 16 columns]"
      ]
     },
     "execution_count": 2,
     "metadata": {},
     "output_type": "execute_result"
    }
   ],
   "source": [
    "df= pd.read_csv('/kaggle/input/lung-cancer/survey lung cancer.csv')\n",
    "df"
   ]
  },
  {
   "cell_type": "code",
   "execution_count": 3,
   "id": "0685db93",
   "metadata": {
    "execution": {
     "iopub.execute_input": "2024-09-24T14:11:18.912197Z",
     "iopub.status.busy": "2024-09-24T14:11:18.911775Z",
     "iopub.status.idle": "2024-09-24T14:11:18.920506Z",
     "shell.execute_reply": "2024-09-24T14:11:18.919369Z"
    },
    "papermill": {
     "duration": 0.021642,
     "end_time": "2024-09-24T14:11:18.923377",
     "exception": false,
     "start_time": "2024-09-24T14:11:18.901735",
     "status": "completed"
    },
    "tags": []
   },
   "outputs": [
    {
     "data": {
      "text/plain": [
       "GENDER                   object\n",
       "AGE                       int64\n",
       "SMOKING                   int64\n",
       "YELLOW_FINGERS            int64\n",
       "ANXIETY                   int64\n",
       "PEER_PRESSURE             int64\n",
       "CHRONIC DISEASE           int64\n",
       "FATIGUE                   int64\n",
       "ALLERGY                   int64\n",
       "WHEEZING                  int64\n",
       "ALCOHOL CONSUMING         int64\n",
       "COUGHING                  int64\n",
       "SHORTNESS OF BREATH       int64\n",
       "SWALLOWING DIFFICULTY     int64\n",
       "CHEST PAIN                int64\n",
       "LUNG_CANCER              object\n",
       "dtype: object"
      ]
     },
     "execution_count": 3,
     "metadata": {},
     "output_type": "execute_result"
    }
   ],
   "source": [
    "df.dtypes"
   ]
  },
  {
   "cell_type": "code",
   "execution_count": 4,
   "id": "28f6797e",
   "metadata": {
    "execution": {
     "iopub.execute_input": "2024-09-24T14:11:18.942994Z",
     "iopub.status.busy": "2024-09-24T14:11:18.942526Z",
     "iopub.status.idle": "2024-09-24T14:11:18.966915Z",
     "shell.execute_reply": "2024-09-24T14:11:18.965697Z"
    },
    "papermill": {
     "duration": 0.036667,
     "end_time": "2024-09-24T14:11:18.969272",
     "exception": false,
     "start_time": "2024-09-24T14:11:18.932605",
     "status": "completed"
    },
    "tags": []
   },
   "outputs": [
    {
     "data": {
      "text/html": [
       "<div>\n",
       "<style scoped>\n",
       "    .dataframe tbody tr th:only-of-type {\n",
       "        vertical-align: middle;\n",
       "    }\n",
       "\n",
       "    .dataframe tbody tr th {\n",
       "        vertical-align: top;\n",
       "    }\n",
       "\n",
       "    .dataframe thead th {\n",
       "        text-align: right;\n",
       "    }\n",
       "</style>\n",
       "<table border=\"1\" class=\"dataframe\">\n",
       "  <thead>\n",
       "    <tr style=\"text-align: right;\">\n",
       "      <th></th>\n",
       "      <th>GENDER</th>\n",
       "      <th>AGE</th>\n",
       "      <th>SMOKING</th>\n",
       "      <th>YELLOW_FINGERS</th>\n",
       "      <th>ANXIETY</th>\n",
       "      <th>PEER_PRESSURE</th>\n",
       "      <th>CHRONIC DISEASE</th>\n",
       "      <th>FATIGUE</th>\n",
       "      <th>ALLERGY</th>\n",
       "      <th>WHEEZING</th>\n",
       "      <th>ALCOHOL CONSUMING</th>\n",
       "      <th>COUGHING</th>\n",
       "      <th>SHORTNESS OF BREATH</th>\n",
       "      <th>SWALLOWING DIFFICULTY</th>\n",
       "      <th>CHEST PAIN</th>\n",
       "      <th>LUNG_CANCER</th>\n",
       "    </tr>\n",
       "  </thead>\n",
       "  <tbody>\n",
       "    <tr>\n",
       "      <th>0</th>\n",
       "      <td>1</td>\n",
       "      <td>69</td>\n",
       "      <td>1</td>\n",
       "      <td>2</td>\n",
       "      <td>2</td>\n",
       "      <td>1</td>\n",
       "      <td>1</td>\n",
       "      <td>2</td>\n",
       "      <td>1</td>\n",
       "      <td>2</td>\n",
       "      <td>2</td>\n",
       "      <td>2</td>\n",
       "      <td>2</td>\n",
       "      <td>2</td>\n",
       "      <td>2</td>\n",
       "      <td>1</td>\n",
       "    </tr>\n",
       "    <tr>\n",
       "      <th>1</th>\n",
       "      <td>1</td>\n",
       "      <td>74</td>\n",
       "      <td>2</td>\n",
       "      <td>1</td>\n",
       "      <td>1</td>\n",
       "      <td>1</td>\n",
       "      <td>2</td>\n",
       "      <td>2</td>\n",
       "      <td>2</td>\n",
       "      <td>1</td>\n",
       "      <td>1</td>\n",
       "      <td>1</td>\n",
       "      <td>2</td>\n",
       "      <td>2</td>\n",
       "      <td>2</td>\n",
       "      <td>1</td>\n",
       "    </tr>\n",
       "    <tr>\n",
       "      <th>2</th>\n",
       "      <td>0</td>\n",
       "      <td>59</td>\n",
       "      <td>1</td>\n",
       "      <td>1</td>\n",
       "      <td>1</td>\n",
       "      <td>2</td>\n",
       "      <td>1</td>\n",
       "      <td>2</td>\n",
       "      <td>1</td>\n",
       "      <td>2</td>\n",
       "      <td>1</td>\n",
       "      <td>2</td>\n",
       "      <td>2</td>\n",
       "      <td>1</td>\n",
       "      <td>2</td>\n",
       "      <td>0</td>\n",
       "    </tr>\n",
       "    <tr>\n",
       "      <th>3</th>\n",
       "      <td>1</td>\n",
       "      <td>63</td>\n",
       "      <td>2</td>\n",
       "      <td>2</td>\n",
       "      <td>2</td>\n",
       "      <td>1</td>\n",
       "      <td>1</td>\n",
       "      <td>1</td>\n",
       "      <td>1</td>\n",
       "      <td>1</td>\n",
       "      <td>2</td>\n",
       "      <td>1</td>\n",
       "      <td>1</td>\n",
       "      <td>2</td>\n",
       "      <td>2</td>\n",
       "      <td>0</td>\n",
       "    </tr>\n",
       "    <tr>\n",
       "      <th>4</th>\n",
       "      <td>0</td>\n",
       "      <td>63</td>\n",
       "      <td>1</td>\n",
       "      <td>2</td>\n",
       "      <td>1</td>\n",
       "      <td>1</td>\n",
       "      <td>1</td>\n",
       "      <td>1</td>\n",
       "      <td>1</td>\n",
       "      <td>2</td>\n",
       "      <td>1</td>\n",
       "      <td>2</td>\n",
       "      <td>2</td>\n",
       "      <td>1</td>\n",
       "      <td>1</td>\n",
       "      <td>0</td>\n",
       "    </tr>\n",
       "    <tr>\n",
       "      <th>...</th>\n",
       "      <td>...</td>\n",
       "      <td>...</td>\n",
       "      <td>...</td>\n",
       "      <td>...</td>\n",
       "      <td>...</td>\n",
       "      <td>...</td>\n",
       "      <td>...</td>\n",
       "      <td>...</td>\n",
       "      <td>...</td>\n",
       "      <td>...</td>\n",
       "      <td>...</td>\n",
       "      <td>...</td>\n",
       "      <td>...</td>\n",
       "      <td>...</td>\n",
       "      <td>...</td>\n",
       "      <td>...</td>\n",
       "    </tr>\n",
       "    <tr>\n",
       "      <th>304</th>\n",
       "      <td>0</td>\n",
       "      <td>56</td>\n",
       "      <td>1</td>\n",
       "      <td>1</td>\n",
       "      <td>1</td>\n",
       "      <td>2</td>\n",
       "      <td>2</td>\n",
       "      <td>2</td>\n",
       "      <td>1</td>\n",
       "      <td>1</td>\n",
       "      <td>2</td>\n",
       "      <td>2</td>\n",
       "      <td>2</td>\n",
       "      <td>2</td>\n",
       "      <td>1</td>\n",
       "      <td>1</td>\n",
       "    </tr>\n",
       "    <tr>\n",
       "      <th>305</th>\n",
       "      <td>1</td>\n",
       "      <td>70</td>\n",
       "      <td>2</td>\n",
       "      <td>1</td>\n",
       "      <td>1</td>\n",
       "      <td>1</td>\n",
       "      <td>1</td>\n",
       "      <td>2</td>\n",
       "      <td>2</td>\n",
       "      <td>2</td>\n",
       "      <td>2</td>\n",
       "      <td>2</td>\n",
       "      <td>2</td>\n",
       "      <td>1</td>\n",
       "      <td>2</td>\n",
       "      <td>1</td>\n",
       "    </tr>\n",
       "    <tr>\n",
       "      <th>306</th>\n",
       "      <td>1</td>\n",
       "      <td>58</td>\n",
       "      <td>2</td>\n",
       "      <td>1</td>\n",
       "      <td>1</td>\n",
       "      <td>1</td>\n",
       "      <td>1</td>\n",
       "      <td>1</td>\n",
       "      <td>2</td>\n",
       "      <td>2</td>\n",
       "      <td>2</td>\n",
       "      <td>2</td>\n",
       "      <td>1</td>\n",
       "      <td>1</td>\n",
       "      <td>2</td>\n",
       "      <td>1</td>\n",
       "    </tr>\n",
       "    <tr>\n",
       "      <th>307</th>\n",
       "      <td>1</td>\n",
       "      <td>67</td>\n",
       "      <td>2</td>\n",
       "      <td>1</td>\n",
       "      <td>2</td>\n",
       "      <td>1</td>\n",
       "      <td>1</td>\n",
       "      <td>2</td>\n",
       "      <td>2</td>\n",
       "      <td>1</td>\n",
       "      <td>2</td>\n",
       "      <td>2</td>\n",
       "      <td>2</td>\n",
       "      <td>1</td>\n",
       "      <td>2</td>\n",
       "      <td>1</td>\n",
       "    </tr>\n",
       "    <tr>\n",
       "      <th>308</th>\n",
       "      <td>1</td>\n",
       "      <td>62</td>\n",
       "      <td>1</td>\n",
       "      <td>1</td>\n",
       "      <td>1</td>\n",
       "      <td>2</td>\n",
       "      <td>1</td>\n",
       "      <td>2</td>\n",
       "      <td>2</td>\n",
       "      <td>2</td>\n",
       "      <td>2</td>\n",
       "      <td>1</td>\n",
       "      <td>1</td>\n",
       "      <td>2</td>\n",
       "      <td>1</td>\n",
       "      <td>1</td>\n",
       "    </tr>\n",
       "  </tbody>\n",
       "</table>\n",
       "<p>309 rows × 16 columns</p>\n",
       "</div>"
      ],
      "text/plain": [
       "     GENDER  AGE  SMOKING  YELLOW_FINGERS  ANXIETY  PEER_PRESSURE  \\\n",
       "0         1   69        1               2        2              1   \n",
       "1         1   74        2               1        1              1   \n",
       "2         0   59        1               1        1              2   \n",
       "3         1   63        2               2        2              1   \n",
       "4         0   63        1               2        1              1   \n",
       "..      ...  ...      ...             ...      ...            ...   \n",
       "304       0   56        1               1        1              2   \n",
       "305       1   70        2               1        1              1   \n",
       "306       1   58        2               1        1              1   \n",
       "307       1   67        2               1        2              1   \n",
       "308       1   62        1               1        1              2   \n",
       "\n",
       "     CHRONIC DISEASE  FATIGUE   ALLERGY   WHEEZING  ALCOHOL CONSUMING  \\\n",
       "0                  1         2         1         2                  2   \n",
       "1                  2         2         2         1                  1   \n",
       "2                  1         2         1         2                  1   \n",
       "3                  1         1         1         1                  2   \n",
       "4                  1         1         1         2                  1   \n",
       "..               ...       ...       ...       ...                ...   \n",
       "304                2         2         1         1                  2   \n",
       "305                1         2         2         2                  2   \n",
       "306                1         1         2         2                  2   \n",
       "307                1         2         2         1                  2   \n",
       "308                1         2         2         2                  2   \n",
       "\n",
       "     COUGHING  SHORTNESS OF BREATH  SWALLOWING DIFFICULTY  CHEST PAIN  \\\n",
       "0           2                    2                      2           2   \n",
       "1           1                    2                      2           2   \n",
       "2           2                    2                      1           2   \n",
       "3           1                    1                      2           2   \n",
       "4           2                    2                      1           1   \n",
       "..        ...                  ...                    ...         ...   \n",
       "304         2                    2                      2           1   \n",
       "305         2                    2                      1           2   \n",
       "306         2                    1                      1           2   \n",
       "307         2                    2                      1           2   \n",
       "308         1                    1                      2           1   \n",
       "\n",
       "     LUNG_CANCER  \n",
       "0              1  \n",
       "1              1  \n",
       "2              0  \n",
       "3              0  \n",
       "4              0  \n",
       "..           ...  \n",
       "304            1  \n",
       "305            1  \n",
       "306            1  \n",
       "307            1  \n",
       "308            1  \n",
       "\n",
       "[309 rows x 16 columns]"
      ]
     },
     "execution_count": 4,
     "metadata": {},
     "output_type": "execute_result"
    }
   ],
   "source": [
    "df['GENDER'] = df['GENDER'].map({'F':0,'M':1})\n",
    "df['LUNG_CANCER'] = df['LUNG_CANCER'].map({'YES':1,'NO':0})\n",
    "df"
   ]
  },
  {
   "cell_type": "code",
   "execution_count": 5,
   "id": "c4aa09fe",
   "metadata": {
    "execution": {
     "iopub.execute_input": "2024-09-24T14:11:18.991256Z",
     "iopub.status.busy": "2024-09-24T14:11:18.990851Z",
     "iopub.status.idle": "2024-09-24T14:11:18.999958Z",
     "shell.execute_reply": "2024-09-24T14:11:18.998666Z"
    },
    "papermill": {
     "duration": 0.022514,
     "end_time": "2024-09-24T14:11:19.002530",
     "exception": false,
     "start_time": "2024-09-24T14:11:18.980016",
     "status": "completed"
    },
    "tags": []
   },
   "outputs": [
    {
     "data": {
      "text/plain": [
       "GENDER                   int64\n",
       "AGE                      int64\n",
       "SMOKING                  int64\n",
       "YELLOW_FINGERS           int64\n",
       "ANXIETY                  int64\n",
       "PEER_PRESSURE            int64\n",
       "CHRONIC DISEASE          int64\n",
       "FATIGUE                  int64\n",
       "ALLERGY                  int64\n",
       "WHEEZING                 int64\n",
       "ALCOHOL CONSUMING        int64\n",
       "COUGHING                 int64\n",
       "SHORTNESS OF BREATH      int64\n",
       "SWALLOWING DIFFICULTY    int64\n",
       "CHEST PAIN               int64\n",
       "LUNG_CANCER              int64\n",
       "dtype: object"
      ]
     },
     "execution_count": 5,
     "metadata": {},
     "output_type": "execute_result"
    }
   ],
   "source": [
    "df.dtypes"
   ]
  },
  {
   "cell_type": "code",
   "execution_count": 6,
   "id": "22d350fd",
   "metadata": {
    "execution": {
     "iopub.execute_input": "2024-09-24T14:11:19.024440Z",
     "iopub.status.busy": "2024-09-24T14:11:19.024017Z",
     "iopub.status.idle": "2024-09-24T14:11:19.038080Z",
     "shell.execute_reply": "2024-09-24T14:11:19.036976Z"
    },
    "papermill": {
     "duration": 0.028377,
     "end_time": "2024-09-24T14:11:19.040771",
     "exception": false,
     "start_time": "2024-09-24T14:11:19.012394",
     "status": "completed"
    },
    "tags": []
   },
   "outputs": [],
   "source": [
    "df.drop_duplicates(inplace =True)\n"
   ]
  },
  {
   "cell_type": "code",
   "execution_count": 7,
   "id": "d895662e",
   "metadata": {
    "execution": {
     "iopub.execute_input": "2024-09-24T14:11:19.062477Z",
     "iopub.status.busy": "2024-09-24T14:11:19.061594Z",
     "iopub.status.idle": "2024-09-24T14:11:19.072960Z",
     "shell.execute_reply": "2024-09-24T14:11:19.071643Z"
    },
    "papermill": {
     "duration": 0.024856,
     "end_time": "2024-09-24T14:11:19.075613",
     "exception": false,
     "start_time": "2024-09-24T14:11:19.050757",
     "status": "completed"
    },
    "tags": []
   },
   "outputs": [
    {
     "data": {
      "text/plain": [
       "GENDER                   0\n",
       "AGE                      0\n",
       "SMOKING                  0\n",
       "YELLOW_FINGERS           0\n",
       "ANXIETY                  0\n",
       "PEER_PRESSURE            0\n",
       "CHRONIC DISEASE          0\n",
       "FATIGUE                  0\n",
       "ALLERGY                  0\n",
       "WHEEZING                 0\n",
       "ALCOHOL CONSUMING        0\n",
       "COUGHING                 0\n",
       "SHORTNESS OF BREATH      0\n",
       "SWALLOWING DIFFICULTY    0\n",
       "CHEST PAIN               0\n",
       "LUNG_CANCER              0\n",
       "dtype: int64"
      ]
     },
     "execution_count": 7,
     "metadata": {},
     "output_type": "execute_result"
    }
   ],
   "source": [
    "df.isnull().sum()"
   ]
  },
  {
   "cell_type": "code",
   "execution_count": 8,
   "id": "b9efabe1",
   "metadata": {
    "execution": {
     "iopub.execute_input": "2024-09-24T14:11:19.096807Z",
     "iopub.status.busy": "2024-09-24T14:11:19.096337Z",
     "iopub.status.idle": "2024-09-24T14:11:19.117391Z",
     "shell.execute_reply": "2024-09-24T14:11:19.116227Z"
    },
    "papermill": {
     "duration": 0.034541,
     "end_time": "2024-09-24T14:11:19.120148",
     "exception": false,
     "start_time": "2024-09-24T14:11:19.085607",
     "status": "completed"
    },
    "tags": []
   },
   "outputs": [
    {
     "data": {
      "text/html": [
       "<div>\n",
       "<style scoped>\n",
       "    .dataframe tbody tr th:only-of-type {\n",
       "        vertical-align: middle;\n",
       "    }\n",
       "\n",
       "    .dataframe tbody tr th {\n",
       "        vertical-align: top;\n",
       "    }\n",
       "\n",
       "    .dataframe thead th {\n",
       "        text-align: right;\n",
       "    }\n",
       "</style>\n",
       "<table border=\"1\" class=\"dataframe\">\n",
       "  <thead>\n",
       "    <tr style=\"text-align: right;\">\n",
       "      <th></th>\n",
       "      <th>index</th>\n",
       "      <th>GENDER</th>\n",
       "      <th>AGE</th>\n",
       "      <th>SMOKING</th>\n",
       "      <th>YELLOW_FINGERS</th>\n",
       "      <th>ANXIETY</th>\n",
       "      <th>PEER_PRESSURE</th>\n",
       "      <th>CHRONIC DISEASE</th>\n",
       "      <th>FATIGUE</th>\n",
       "      <th>ALLERGY</th>\n",
       "      <th>WHEEZING</th>\n",
       "      <th>ALCOHOL CONSUMING</th>\n",
       "      <th>COUGHING</th>\n",
       "      <th>SHORTNESS OF BREATH</th>\n",
       "      <th>SWALLOWING DIFFICULTY</th>\n",
       "      <th>CHEST PAIN</th>\n",
       "      <th>LUNG_CANCER</th>\n",
       "    </tr>\n",
       "  </thead>\n",
       "  <tbody>\n",
       "    <tr>\n",
       "      <th>0</th>\n",
       "      <td>0</td>\n",
       "      <td>1</td>\n",
       "      <td>69</td>\n",
       "      <td>1</td>\n",
       "      <td>2</td>\n",
       "      <td>2</td>\n",
       "      <td>1</td>\n",
       "      <td>1</td>\n",
       "      <td>2</td>\n",
       "      <td>1</td>\n",
       "      <td>2</td>\n",
       "      <td>2</td>\n",
       "      <td>2</td>\n",
       "      <td>2</td>\n",
       "      <td>2</td>\n",
       "      <td>2</td>\n",
       "      <td>1</td>\n",
       "    </tr>\n",
       "    <tr>\n",
       "      <th>1</th>\n",
       "      <td>1</td>\n",
       "      <td>1</td>\n",
       "      <td>74</td>\n",
       "      <td>2</td>\n",
       "      <td>1</td>\n",
       "      <td>1</td>\n",
       "      <td>1</td>\n",
       "      <td>2</td>\n",
       "      <td>2</td>\n",
       "      <td>2</td>\n",
       "      <td>1</td>\n",
       "      <td>1</td>\n",
       "      <td>1</td>\n",
       "      <td>2</td>\n",
       "      <td>2</td>\n",
       "      <td>2</td>\n",
       "      <td>1</td>\n",
       "    </tr>\n",
       "    <tr>\n",
       "      <th>2</th>\n",
       "      <td>2</td>\n",
       "      <td>0</td>\n",
       "      <td>59</td>\n",
       "      <td>1</td>\n",
       "      <td>1</td>\n",
       "      <td>1</td>\n",
       "      <td>2</td>\n",
       "      <td>1</td>\n",
       "      <td>2</td>\n",
       "      <td>1</td>\n",
       "      <td>2</td>\n",
       "      <td>1</td>\n",
       "      <td>2</td>\n",
       "      <td>2</td>\n",
       "      <td>1</td>\n",
       "      <td>2</td>\n",
       "      <td>0</td>\n",
       "    </tr>\n",
       "    <tr>\n",
       "      <th>3</th>\n",
       "      <td>3</td>\n",
       "      <td>1</td>\n",
       "      <td>63</td>\n",
       "      <td>2</td>\n",
       "      <td>2</td>\n",
       "      <td>2</td>\n",
       "      <td>1</td>\n",
       "      <td>1</td>\n",
       "      <td>1</td>\n",
       "      <td>1</td>\n",
       "      <td>1</td>\n",
       "      <td>2</td>\n",
       "      <td>1</td>\n",
       "      <td>1</td>\n",
       "      <td>2</td>\n",
       "      <td>2</td>\n",
       "      <td>0</td>\n",
       "    </tr>\n",
       "    <tr>\n",
       "      <th>4</th>\n",
       "      <td>4</td>\n",
       "      <td>0</td>\n",
       "      <td>63</td>\n",
       "      <td>1</td>\n",
       "      <td>2</td>\n",
       "      <td>1</td>\n",
       "      <td>1</td>\n",
       "      <td>1</td>\n",
       "      <td>1</td>\n",
       "      <td>1</td>\n",
       "      <td>2</td>\n",
       "      <td>1</td>\n",
       "      <td>2</td>\n",
       "      <td>2</td>\n",
       "      <td>1</td>\n",
       "      <td>1</td>\n",
       "      <td>0</td>\n",
       "    </tr>\n",
       "    <tr>\n",
       "      <th>...</th>\n",
       "      <td>...</td>\n",
       "      <td>...</td>\n",
       "      <td>...</td>\n",
       "      <td>...</td>\n",
       "      <td>...</td>\n",
       "      <td>...</td>\n",
       "      <td>...</td>\n",
       "      <td>...</td>\n",
       "      <td>...</td>\n",
       "      <td>...</td>\n",
       "      <td>...</td>\n",
       "      <td>...</td>\n",
       "      <td>...</td>\n",
       "      <td>...</td>\n",
       "      <td>...</td>\n",
       "      <td>...</td>\n",
       "      <td>...</td>\n",
       "    </tr>\n",
       "    <tr>\n",
       "      <th>271</th>\n",
       "      <td>279</td>\n",
       "      <td>0</td>\n",
       "      <td>59</td>\n",
       "      <td>1</td>\n",
       "      <td>2</td>\n",
       "      <td>2</td>\n",
       "      <td>2</td>\n",
       "      <td>1</td>\n",
       "      <td>1</td>\n",
       "      <td>2</td>\n",
       "      <td>2</td>\n",
       "      <td>1</td>\n",
       "      <td>2</td>\n",
       "      <td>1</td>\n",
       "      <td>2</td>\n",
       "      <td>1</td>\n",
       "      <td>1</td>\n",
       "    </tr>\n",
       "    <tr>\n",
       "      <th>272</th>\n",
       "      <td>280</td>\n",
       "      <td>0</td>\n",
       "      <td>59</td>\n",
       "      <td>2</td>\n",
       "      <td>1</td>\n",
       "      <td>1</td>\n",
       "      <td>1</td>\n",
       "      <td>2</td>\n",
       "      <td>2</td>\n",
       "      <td>2</td>\n",
       "      <td>1</td>\n",
       "      <td>1</td>\n",
       "      <td>1</td>\n",
       "      <td>2</td>\n",
       "      <td>1</td>\n",
       "      <td>1</td>\n",
       "      <td>0</td>\n",
       "    </tr>\n",
       "    <tr>\n",
       "      <th>273</th>\n",
       "      <td>281</td>\n",
       "      <td>1</td>\n",
       "      <td>55</td>\n",
       "      <td>2</td>\n",
       "      <td>1</td>\n",
       "      <td>1</td>\n",
       "      <td>1</td>\n",
       "      <td>1</td>\n",
       "      <td>2</td>\n",
       "      <td>2</td>\n",
       "      <td>1</td>\n",
       "      <td>1</td>\n",
       "      <td>1</td>\n",
       "      <td>2</td>\n",
       "      <td>1</td>\n",
       "      <td>2</td>\n",
       "      <td>0</td>\n",
       "    </tr>\n",
       "    <tr>\n",
       "      <th>274</th>\n",
       "      <td>282</td>\n",
       "      <td>1</td>\n",
       "      <td>46</td>\n",
       "      <td>1</td>\n",
       "      <td>2</td>\n",
       "      <td>2</td>\n",
       "      <td>1</td>\n",
       "      <td>1</td>\n",
       "      <td>1</td>\n",
       "      <td>1</td>\n",
       "      <td>1</td>\n",
       "      <td>1</td>\n",
       "      <td>1</td>\n",
       "      <td>1</td>\n",
       "      <td>2</td>\n",
       "      <td>2</td>\n",
       "      <td>0</td>\n",
       "    </tr>\n",
       "    <tr>\n",
       "      <th>275</th>\n",
       "      <td>283</td>\n",
       "      <td>1</td>\n",
       "      <td>60</td>\n",
       "      <td>1</td>\n",
       "      <td>2</td>\n",
       "      <td>2</td>\n",
       "      <td>1</td>\n",
       "      <td>1</td>\n",
       "      <td>2</td>\n",
       "      <td>1</td>\n",
       "      <td>2</td>\n",
       "      <td>2</td>\n",
       "      <td>2</td>\n",
       "      <td>2</td>\n",
       "      <td>2</td>\n",
       "      <td>2</td>\n",
       "      <td>1</td>\n",
       "    </tr>\n",
       "  </tbody>\n",
       "</table>\n",
       "<p>276 rows × 17 columns</p>\n",
       "</div>"
      ],
      "text/plain": [
       "     index  GENDER  AGE  SMOKING  YELLOW_FINGERS  ANXIETY  PEER_PRESSURE  \\\n",
       "0        0       1   69        1               2        2              1   \n",
       "1        1       1   74        2               1        1              1   \n",
       "2        2       0   59        1               1        1              2   \n",
       "3        3       1   63        2               2        2              1   \n",
       "4        4       0   63        1               2        1              1   \n",
       "..     ...     ...  ...      ...             ...      ...            ...   \n",
       "271    279       0   59        1               2        2              2   \n",
       "272    280       0   59        2               1        1              1   \n",
       "273    281       1   55        2               1        1              1   \n",
       "274    282       1   46        1               2        2              1   \n",
       "275    283       1   60        1               2        2              1   \n",
       "\n",
       "     CHRONIC DISEASE  FATIGUE   ALLERGY   WHEEZING  ALCOHOL CONSUMING  \\\n",
       "0                  1         2         1         2                  2   \n",
       "1                  2         2         2         1                  1   \n",
       "2                  1         2         1         2                  1   \n",
       "3                  1         1         1         1                  2   \n",
       "4                  1         1         1         2                  1   \n",
       "..               ...       ...       ...       ...                ...   \n",
       "271                1         1         2         2                  1   \n",
       "272                2         2         2         1                  1   \n",
       "273                1         2         2         1                  1   \n",
       "274                1         1         1         1                  1   \n",
       "275                1         2         1         2                  2   \n",
       "\n",
       "     COUGHING  SHORTNESS OF BREATH  SWALLOWING DIFFICULTY  CHEST PAIN  \\\n",
       "0           2                    2                      2           2   \n",
       "1           1                    2                      2           2   \n",
       "2           2                    2                      1           2   \n",
       "3           1                    1                      2           2   \n",
       "4           2                    2                      1           1   \n",
       "..        ...                  ...                    ...         ...   \n",
       "271         2                    1                      2           1   \n",
       "272         1                    2                      1           1   \n",
       "273         1                    2                      1           2   \n",
       "274         1                    1                      2           2   \n",
       "275         2                    2                      2           2   \n",
       "\n",
       "     LUNG_CANCER  \n",
       "0              1  \n",
       "1              1  \n",
       "2              0  \n",
       "3              0  \n",
       "4              0  \n",
       "..           ...  \n",
       "271            1  \n",
       "272            0  \n",
       "273            0  \n",
       "274            0  \n",
       "275            1  \n",
       "\n",
       "[276 rows x 17 columns]"
      ]
     },
     "execution_count": 8,
     "metadata": {},
     "output_type": "execute_result"
    }
   ],
   "source": [
    "df.reset_index()"
   ]
  },
  {
   "cell_type": "code",
   "execution_count": 9,
   "id": "77ee8681",
   "metadata": {
    "execution": {
     "iopub.execute_input": "2024-09-24T14:11:19.142949Z",
     "iopub.status.busy": "2024-09-24T14:11:19.142490Z",
     "iopub.status.idle": "2024-09-24T14:11:19.162012Z",
     "shell.execute_reply": "2024-09-24T14:11:19.160751Z"
    },
    "papermill": {
     "duration": 0.033758,
     "end_time": "2024-09-24T14:11:19.164832",
     "exception": false,
     "start_time": "2024-09-24T14:11:19.131074",
     "status": "completed"
    },
    "tags": []
   },
   "outputs": [],
   "source": [
    "from sklearn.preprocessing import scale \n",
    "from sklearn.model_selection import train_test_split"
   ]
  },
  {
   "cell_type": "code",
   "execution_count": 10,
   "id": "dfd74e4e",
   "metadata": {
    "execution": {
     "iopub.execute_input": "2024-09-24T14:11:19.186740Z",
     "iopub.status.busy": "2024-09-24T14:11:19.186273Z",
     "iopub.status.idle": "2024-09-24T14:11:19.196941Z",
     "shell.execute_reply": "2024-09-24T14:11:19.195741Z"
    },
    "papermill": {
     "duration": 0.024631,
     "end_time": "2024-09-24T14:11:19.199453",
     "exception": false,
     "start_time": "2024-09-24T14:11:19.174822",
     "status": "completed"
    },
    "tags": []
   },
   "outputs": [],
   "source": [
    "data = df.iloc[:,:-1].values\n",
    "x= scale(data)\n",
    "y= df.iloc[:,-1].values\n"
   ]
  },
  {
   "cell_type": "code",
   "execution_count": 11,
   "id": "78a7e9f4",
   "metadata": {
    "execution": {
     "iopub.execute_input": "2024-09-24T14:11:19.221643Z",
     "iopub.status.busy": "2024-09-24T14:11:19.221205Z",
     "iopub.status.idle": "2024-09-24T14:11:19.229998Z",
     "shell.execute_reply": "2024-09-24T14:11:19.228882Z"
    },
    "papermill": {
     "duration": 0.022463,
     "end_time": "2024-09-24T14:11:19.232446",
     "exception": false,
     "start_time": "2024-09-24T14:11:19.209983",
     "status": "completed"
    },
    "tags": []
   },
   "outputs": [],
   "source": [
    "x_train , x_test , y_train , y_test = train_test_split(x,y , test_size= 0.2 , random_state=42)"
   ]
  },
  {
   "cell_type": "markdown",
   "id": "f376da88",
   "metadata": {
    "papermill": {
     "duration": 0.009786,
     "end_time": "2024-09-24T14:11:19.252126",
     "exception": false,
     "start_time": "2024-09-24T14:11:19.242340",
     "status": "completed"
    },
    "tags": []
   },
   "source": [
    "<h1>KNeighborsClassifier</h1>"
   ]
  },
  {
   "cell_type": "code",
   "execution_count": 12,
   "id": "3ab4969e",
   "metadata": {
    "execution": {
     "iopub.execute_input": "2024-09-24T14:11:19.273841Z",
     "iopub.status.busy": "2024-09-24T14:11:19.273354Z",
     "iopub.status.idle": "2024-09-24T14:11:19.571029Z",
     "shell.execute_reply": "2024-09-24T14:11:19.569464Z"
    },
    "papermill": {
     "duration": 0.312334,
     "end_time": "2024-09-24T14:11:19.574488",
     "exception": false,
     "start_time": "2024-09-24T14:11:19.262154",
     "status": "completed"
    },
    "tags": []
   },
   "outputs": [],
   "source": [
    "from sklearn.neighbors import KNeighborsClassifier\n",
    "from sklearn import metrics"
   ]
  },
  {
   "cell_type": "code",
   "execution_count": 13,
   "id": "7f6dbe25",
   "metadata": {
    "execution": {
     "iopub.execute_input": "2024-09-24T14:11:19.597555Z",
     "iopub.status.busy": "2024-09-24T14:11:19.597101Z",
     "iopub.status.idle": "2024-09-24T14:11:19.614157Z",
     "shell.execute_reply": "2024-09-24T14:11:19.612853Z"
    },
    "papermill": {
     "duration": 0.03196,
     "end_time": "2024-09-24T14:11:19.617150",
     "exception": false,
     "start_time": "2024-09-24T14:11:19.585190",
     "status": "completed"
    },
    "tags": []
   },
   "outputs": [],
   "source": [
    "knn= KNeighborsClassifier(n_neighbors=5)\n",
    "knn.fit(x_train , y_train)\n",
    "knn_pred =knn.predict(x_test)"
   ]
  },
  {
   "cell_type": "code",
   "execution_count": 14,
   "id": "e7f851e2",
   "metadata": {
    "execution": {
     "iopub.execute_input": "2024-09-24T14:11:19.642267Z",
     "iopub.status.busy": "2024-09-24T14:11:19.641828Z",
     "iopub.status.idle": "2024-09-24T14:11:19.674186Z",
     "shell.execute_reply": "2024-09-24T14:11:19.671956Z"
    },
    "papermill": {
     "duration": 0.047657,
     "end_time": "2024-09-24T14:11:19.677023",
     "exception": false,
     "start_time": "2024-09-24T14:11:19.629366",
     "status": "completed"
    },
    "tags": []
   },
   "outputs": [
    {
     "name": "stdout",
     "output_type": "stream",
     "text": [
      "accuracy : 0.8392857142857143\n",
      "score test: 0.8392857142857143\n",
      "score train: 0.9090909090909091\n"
     ]
    }
   ],
   "source": [
    "print('accuracy :', metrics.accuracy_score(y_test,knn_pred))\n",
    "print('score test:',knn.score(x_test,y_test))\n",
    "print('score train:',knn.score(x_train,y_train))"
   ]
  },
  {
   "cell_type": "code",
   "execution_count": 15,
   "id": "0a52cafd",
   "metadata": {
    "execution": {
     "iopub.execute_input": "2024-09-24T14:11:19.700345Z",
     "iopub.status.busy": "2024-09-24T14:11:19.699903Z",
     "iopub.status.idle": "2024-09-24T14:11:19.705752Z",
     "shell.execute_reply": "2024-09-24T14:11:19.704551Z"
    },
    "papermill": {
     "duration": 0.020044,
     "end_time": "2024-09-24T14:11:19.708318",
     "exception": false,
     "start_time": "2024-09-24T14:11:19.688274",
     "status": "completed"
    },
    "tags": []
   },
   "outputs": [],
   "source": [
    "from sklearn.metrics import auc ,roc_curve"
   ]
  },
  {
   "cell_type": "code",
   "execution_count": 16,
   "id": "fd0aa4fb",
   "metadata": {
    "execution": {
     "iopub.execute_input": "2024-09-24T14:11:19.731642Z",
     "iopub.status.busy": "2024-09-24T14:11:19.731220Z",
     "iopub.status.idle": "2024-09-24T14:11:20.018007Z",
     "shell.execute_reply": "2024-09-24T14:11:20.016809Z"
    },
    "papermill": {
     "duration": 0.301582,
     "end_time": "2024-09-24T14:11:20.020944",
     "exception": false,
     "start_time": "2024-09-24T14:11:19.719362",
     "status": "completed"
    },
    "tags": []
   },
   "outputs": [
    {
     "data": {
      "image/png": "[encoded data removed]",
      "text/plain": [
       "<Figure size 640x480 with 1 Axes>"
      ]
     },
     "metadata": {},
     "output_type": "display_data"
    }
   ],
   "source": [
    "fbr , tpr , thresholds =roc_curve(y_test, knn_pred)\n",
    "plt.figure()\n",
    "roc_curbe=auc(fbr,tpr)\n",
    "\n",
    "plt.plot(fbr,tpr , label='ROC CURVE (area = %0.2f)'%roc_curbe)\n",
    "plt.margins(0.5)\n",
    "plt.plot([0,1],[0,1],\"k--\",label=\"no skill\")\n",
    "plt.xlim([0.0,1.0])\n",
    "plt.ylim([0.0 , 1.1])\n",
    "plt.title(' roc')\n",
    "plt.legend()\n",
    "plt.show()"
   ]
  },
  {
   "cell_type": "code",
   "execution_count": 17,
   "id": "59405c48",
   "metadata": {
    "execution": {
     "iopub.execute_input": "2024-09-24T14:11:20.044220Z",
     "iopub.status.busy": "2024-09-24T14:11:20.043794Z",
     "iopub.status.idle": "2024-09-24T14:11:20.060965Z",
     "shell.execute_reply": "2024-09-24T14:11:20.059595Z"
    },
    "papermill": {
     "duration": 0.031487,
     "end_time": "2024-09-24T14:11:20.063518",
     "exception": false,
     "start_time": "2024-09-24T14:11:20.032031",
     "status": "completed"
    },
    "tags": []
   },
   "outputs": [
    {
     "name": "stdout",
     "output_type": "stream",
     "text": [
      "              precision    recall  f1-score   support\n",
      "\n",
      "           0       0.80      0.33      0.47        12\n",
      "           1       0.84      0.98      0.91        44\n",
      "\n",
      "    accuracy                           0.84        56\n",
      "   macro avg       0.82      0.66      0.69        56\n",
      "weighted avg       0.83      0.84      0.81        56\n",
      "\n"
     ]
    }
   ],
   "source": [
    "knn_matrix = confusion_matrix (y_test,knn_pred)\n",
    "print (classification_report(y_test,knn_pred))"
   ]
  },
  {
   "cell_type": "code",
   "execution_count": 18,
   "id": "50f6da2b",
   "metadata": {
    "execution": {
     "iopub.execute_input": "2024-09-24T14:11:20.086366Z",
     "iopub.status.busy": "2024-09-24T14:11:20.085957Z",
     "iopub.status.idle": "2024-09-24T14:11:20.093297Z",
     "shell.execute_reply": "2024-09-24T14:11:20.092200Z"
    },
    "papermill": {
     "duration": 0.021986,
     "end_time": "2024-09-24T14:11:20.096094",
     "exception": false,
     "start_time": "2024-09-24T14:11:20.074108",
     "status": "completed"
    },
    "tags": []
   },
   "outputs": [
    {
     "data": {
      "text/plain": [
       "array([[ 4,  8],\n",
       "       [ 1, 43]])"
      ]
     },
     "execution_count": 18,
     "metadata": {},
     "output_type": "execute_result"
    }
   ],
   "source": [
    "knn_matrix"
   ]
  },
  {
   "cell_type": "markdown",
   "id": "8c912a4e",
   "metadata": {
    "papermill": {
     "duration": 0.010466,
     "end_time": "2024-09-24T14:11:20.117955",
     "exception": false,
     "start_time": "2024-09-24T14:11:20.107489",
     "status": "completed"
    },
    "tags": []
   },
   "source": [
    "<h1>LogisticRegression</h1>"
   ]
  },
  {
   "cell_type": "code",
   "execution_count": 19,
   "id": "65db02fe",
   "metadata": {
    "execution": {
     "iopub.execute_input": "2024-09-24T14:11:20.141204Z",
     "iopub.status.busy": "2024-09-24T14:11:20.140756Z",
     "iopub.status.idle": "2024-09-24T14:11:20.145960Z",
     "shell.execute_reply": "2024-09-24T14:11:20.144819Z"
    },
    "papermill": {
     "duration": 0.019765,
     "end_time": "2024-09-24T14:11:20.148371",
     "exception": false,
     "start_time": "2024-09-24T14:11:20.128606",
     "status": "completed"
    },
    "tags": []
   },
   "outputs": [],
   "source": [
    "from sklearn.linear_model import LogisticRegression\n"
   ]
  },
  {
   "cell_type": "code",
   "execution_count": 20,
   "id": "a33f8f28",
   "metadata": {
    "execution": {
     "iopub.execute_input": "2024-09-24T14:11:20.172322Z",
     "iopub.status.busy": "2024-09-24T14:11:20.171888Z",
     "iopub.status.idle": "2024-09-24T14:11:20.192334Z",
     "shell.execute_reply": "2024-09-24T14:11:20.190892Z"
    },
    "papermill": {
     "duration": 0.03543,
     "end_time": "2024-09-24T14:11:20.195028",
     "exception": false,
     "start_time": "2024-09-24T14:11:20.159598",
     "status": "completed"
    },
    "tags": []
   },
   "outputs": [],
   "source": [
    "lo = LogisticRegression()\n",
    "lo.fit(x_train , y_train)\n",
    "lo_pred =lo.predict(x_test)\n"
   ]
  },
  {
   "cell_type": "code",
   "execution_count": 21,
   "id": "2bf50e4a",
   "metadata": {
    "execution": {
     "iopub.execute_input": "2024-09-24T14:11:20.218800Z",
     "iopub.status.busy": "2024-09-24T14:11:20.218327Z",
     "iopub.status.idle": "2024-09-24T14:11:20.229611Z",
     "shell.execute_reply": "2024-09-24T14:11:20.228481Z"
    },
    "papermill": {
     "duration": 0.025855,
     "end_time": "2024-09-24T14:11:20.232078",
     "exception": false,
     "start_time": "2024-09-24T14:11:20.206223",
     "status": "completed"
    },
    "tags": []
   },
   "outputs": [
    {
     "name": "stdout",
     "output_type": "stream",
     "text": [
      "accuracy : 0.9285714285714286\n",
      "score test: 0.9285714285714286\n",
      "score train: 0.9318181818181818\n"
     ]
    }
   ],
   "source": [
    "print('accuracy :', metrics.accuracy_score(y_test,lo_pred))\n",
    "print('score test:',lo.score(x_test,y_test))\n",
    "print('score train:',lo.score(x_train,y_train))"
   ]
  },
  {
   "cell_type": "code",
   "execution_count": 22,
   "id": "4cd9338c",
   "metadata": {
    "execution": {
     "iopub.execute_input": "2024-09-24T14:11:20.255308Z",
     "iopub.status.busy": "2024-09-24T14:11:20.254889Z",
     "iopub.status.idle": "2024-09-24T14:11:20.500520Z",
     "shell.execute_reply": "2024-09-24T14:11:20.499259Z"
    },
    "papermill": {
     "duration": 0.260418,
     "end_time": "2024-09-24T14:11:20.503283",
     "exception": false,
     "start_time": "2024-09-24T14:11:20.242865",
     "status": "completed"
    },
    "tags": []
   },
   "outputs": [
    {
     "data": {
      "image/png": "[encoded data removed]",
      "text/plain": [
       "<Figure size 640x480 with 1 Axes>"
      ]
     },
     "metadata": {},
     "output_type": "display_data"
    }
   ],
   "source": [
    "fbr , tpr , thresholds =roc_curve(y_test,lo_pred)\n",
    "plt.figure()\n",
    "roc_curbe=auc(fbr,tpr)\n",
    "\n",
    "plt.plot(fbr,tpr , label='ROC CURVE (area = %0.2f)'%roc_curbe)\n",
    "plt.margins(0.5)\n",
    "plt.plot([0,1],[0,1],\"k--\",label=\"no skill\")\n",
    "plt.xlim([0.0,1.0])\n",
    "plt.ylim([0.0, 1.1])\n",
    "plt.title(' roc')\n",
    "plt.legend()\n",
    "plt.show()"
   ]
  },
  {
   "cell_type": "code",
   "execution_count": 23,
   "id": "3b36a561",
   "metadata": {
    "execution": {
     "iopub.execute_input": "2024-09-24T14:11:20.528803Z",
     "iopub.status.busy": "2024-09-24T14:11:20.528351Z",
     "iopub.status.idle": "2024-09-24T14:11:20.545800Z",
     "shell.execute_reply": "2024-09-24T14:11:20.544271Z"
    },
    "papermill": {
     "duration": 0.033218,
     "end_time": "2024-09-24T14:11:20.548424",
     "exception": false,
     "start_time": "2024-09-24T14:11:20.515206",
     "status": "completed"
    },
    "tags": []
   },
   "outputs": [
    {
     "name": "stdout",
     "output_type": "stream",
     "text": [
      "              precision    recall  f1-score   support\n",
      "\n",
      "           0       1.00      0.67      0.80        12\n",
      "           1       0.92      1.00      0.96        44\n",
      "\n",
      "    accuracy                           0.93        56\n",
      "   macro avg       0.96      0.83      0.88        56\n",
      "weighted avg       0.93      0.93      0.92        56\n",
      "\n"
     ]
    }
   ],
   "source": [
    "lo_matrix = confusion_matrix (y_test,lo_pred)\n",
    "print (classification_report(y_test,lo_pred))\n"
   ]
  },
  {
   "cell_type": "code",
   "execution_count": 24,
   "id": "f4ee290f",
   "metadata": {
    "execution": {
     "iopub.execute_input": "2024-09-24T14:11:20.573208Z",
     "iopub.status.busy": "2024-09-24T14:11:20.572753Z",
     "iopub.status.idle": "2024-09-24T14:11:20.581035Z",
     "shell.execute_reply": "2024-09-24T14:11:20.579824Z"
    },
    "papermill": {
     "duration": 0.023732,
     "end_time": "2024-09-24T14:11:20.583695",
     "exception": false,
     "start_time": "2024-09-24T14:11:20.559963",
     "status": "completed"
    },
    "tags": []
   },
   "outputs": [
    {
     "data": {
      "text/plain": [
       "array([[ 8,  4],\n",
       "       [ 0, 44]])"
      ]
     },
     "execution_count": 24,
     "metadata": {},
     "output_type": "execute_result"
    }
   ],
   "source": [
    "lo_matrix"
   ]
  },
  {
   "cell_type": "markdown",
   "id": "2d96ff5c",
   "metadata": {
    "papermill": {
     "duration": 0.011335,
     "end_time": "2024-09-24T14:11:20.607033",
     "exception": false,
     "start_time": "2024-09-24T14:11:20.595698",
     "status": "completed"
    },
    "tags": []
   },
   "source": [
    "<h1>SVM</h1>"
   ]
  },
  {
   "cell_type": "code",
   "execution_count": 25,
   "id": "ed227bfd",
   "metadata": {
    "execution": {
     "iopub.execute_input": "2024-09-24T14:11:20.634025Z",
     "iopub.status.busy": "2024-09-24T14:11:20.633517Z",
     "iopub.status.idle": "2024-09-24T14:11:20.639279Z",
     "shell.execute_reply": "2024-09-24T14:11:20.638018Z"
    },
    "papermill": {
     "duration": 0.021901,
     "end_time": "2024-09-24T14:11:20.641985",
     "exception": false,
     "start_time": "2024-09-24T14:11:20.620084",
     "status": "completed"
    },
    "tags": []
   },
   "outputs": [],
   "source": [
    "from sklearn.svm import SVC"
   ]
  },
  {
   "cell_type": "code",
   "execution_count": 26,
   "id": "07be2172",
   "metadata": {
    "execution": {
     "iopub.execute_input": "2024-09-24T14:11:20.666907Z",
     "iopub.status.busy": "2024-09-24T14:11:20.666461Z",
     "iopub.status.idle": "2024-09-24T14:11:20.676382Z",
     "shell.execute_reply": "2024-09-24T14:11:20.675059Z"
    },
    "papermill": {
     "duration": 0.025569,
     "end_time": "2024-09-24T14:11:20.678977",
     "exception": false,
     "start_time": "2024-09-24T14:11:20.653408",
     "status": "completed"
    },
    "tags": []
   },
   "outputs": [],
   "source": [
    "sv = SVC(kernel='rbf')\n",
    "sv.fit(x_train , y_train)\n",
    "svm_pred = sv.predict(x_test)"
   ]
  },
  {
   "cell_type": "code",
   "execution_count": 27,
   "id": "0e2aa4b6",
   "metadata": {
    "execution": {
     "iopub.execute_input": "2024-09-24T14:11:20.703674Z",
     "iopub.status.busy": "2024-09-24T14:11:20.703259Z",
     "iopub.status.idle": "2024-09-24T14:11:20.714234Z",
     "shell.execute_reply": "2024-09-24T14:11:20.712820Z"
    },
    "papermill": {
     "duration": 0.026479,
     "end_time": "2024-09-24T14:11:20.716992",
     "exception": false,
     "start_time": "2024-09-24T14:11:20.690513",
     "status": "completed"
    },
    "tags": []
   },
   "outputs": [
    {
     "name": "stdout",
     "output_type": "stream",
     "text": [
      "accuracy : 0.8392857142857143\n",
      "score test: 0.8392857142857143\n",
      "score train: 0.9454545454545454\n"
     ]
    }
   ],
   "source": [
    "print('accuracy :', metrics.accuracy_score(y_test,svm_pred))\n",
    "print('score test:',sv.score(x_test,y_test))\n",
    "print('score train:',sv.score(x_train,y_train))"
   ]
  },
  {
   "cell_type": "code",
   "execution_count": 28,
   "id": "49dce77d",
   "metadata": {
    "execution": {
     "iopub.execute_input": "2024-09-24T14:11:20.742257Z",
     "iopub.status.busy": "2024-09-24T14:11:20.741843Z",
     "iopub.status.idle": "2024-09-24T14:11:20.969745Z",
     "shell.execute_reply": "2024-09-24T14:11:20.968591Z"
    },
    "papermill": {
     "duration": 0.243435,
     "end_time": "2024-09-24T14:11:20.972246",
     "exception": false,
     "start_time": "2024-09-24T14:11:20.728811",
     "status": "completed"
    },
    "tags": []
   },
   "outputs": [
    {
     "data": {
      "image/png": "[encoded data removed]",
      "text/plain": [
       "<Figure size 640x480 with 1 Axes>"
      ]
     },
     "metadata": {},
     "output_type": "display_data"
    }
   ],
   "source": [
    "fbr , tpr , thresholds =roc_curve(y_test,svm_pred)\n",
    "plt.figure()\n",
    "roc_curbe=auc(fbr,tpr)\n",
    "\n",
    "plt.plot(fbr,tpr , label='ROC CURVE (area = %0.2f)'%roc_curbe)\n",
    "plt.margins(0.5)\n",
    "plt.plot([0,1],[0,1],\"k--\",label=\"no skill\")\n",
    "plt.xlim([0.0,1.0])\n",
    "plt.ylim([0.0, 1.1])\n",
    "plt.title(' roc')\n",
    "plt.legend()\n",
    "plt.show()"
   ]
  },
  {
   "cell_type": "code",
   "execution_count": 29,
   "id": "c2a2b42b",
   "metadata": {
    "execution": {
     "iopub.execute_input": "2024-09-24T14:11:20.999279Z",
     "iopub.status.busy": "2024-09-24T14:11:20.998829Z",
     "iopub.status.idle": "2024-09-24T14:11:21.016572Z",
     "shell.execute_reply": "2024-09-24T14:11:21.014831Z"
    },
    "papermill": {
     "duration": 0.034859,
     "end_time": "2024-09-24T14:11:21.019308",
     "exception": false,
     "start_time": "2024-09-24T14:11:20.984449",
     "status": "completed"
    },
    "tags": []
   },
   "outputs": [
    {
     "name": "stdout",
     "output_type": "stream",
     "text": [
      "              precision    recall  f1-score   support\n",
      "\n",
      "           0       0.80      0.33      0.47        12\n",
      "           1       0.84      0.98      0.91        44\n",
      "\n",
      "    accuracy                           0.84        56\n",
      "   macro avg       0.82      0.66      0.69        56\n",
      "weighted avg       0.83      0.84      0.81        56\n",
      "\n"
     ]
    }
   ],
   "source": [
    "knn_matrix = confusion_matrix (y_test,svm_pred)\n",
    "print (classification_report(y_test,knn_pred))"
   ]
  },
  {
   "cell_type": "code",
   "execution_count": null,
   "id": "4db1a5d8",
   "metadata": {
    "papermill": {
     "duration": 0.012903,
     "end_time": "2024-09-24T14:11:21.044482",
     "exception": false,
     "start_time": "2024-09-24T14:11:21.031579",
     "status": "completed"
    },
    "tags": []
   },
   "outputs": [],
   "source": []
  },
  {
   "cell_type": "code",
   "execution_count": null,
   "id": "d7fcec2a",
   "metadata": {
    "papermill": {
     "duration": 0.012455,
     "end_time": "2024-09-24T14:11:21.069681",
     "exception": false,
     "start_time": "2024-09-24T14:11:21.057226",
     "status": "completed"
    },
    "tags": []
   },
   "outputs": [],
   "source": []
  },
  {
   "cell_type": "code",
   "execution_count": null,
   "id": "9c119567",
   "metadata": {
    "papermill": {
     "duration": 0.011974,
     "end_time": "2024-09-24T14:11:21.094041",
     "exception": false,
     "start_time": "2024-09-24T14:11:21.082067",
     "status": "completed"
    },
    "tags": []
   },
   "outputs": [],
   "source": []
  },
  {
   "cell_type": "code",
   "execution_count": null,
   "id": "f3f339ec",
   "metadata": {
    "papermill": {
     "duration": 0.012108,
     "end_time": "2024-09-24T14:11:21.118319",
     "exception": false,
     "start_time": "2024-09-24T14:11:21.106211",
     "status": "completed"
    },
    "tags": []
   },
   "outputs": [],
   "source": []
  },
  {
   "cell_type": "code",
   "execution_count": null,
   "id": "83321bc6",
   "metadata": {
    "papermill": {
     "duration": 0.01223,
     "end_time": "2024-09-24T14:11:21.142666",
     "exception": false,
     "start_time": "2024-09-24T14:11:21.130436",
     "status": "completed"
    },
    "tags": []
   },
   "outputs": [],
   "source": []
  },
  {
   "cell_type": "code",
   "execution_count": null,
   "id": "14d137cf",
   "metadata": {
    "papermill": {
     "duration": 0.012118,
     "end_time": "2024-09-24T14:11:21.167095",
     "exception": false,
     "start_time": "2024-09-24T14:11:21.154977",
     "status": "completed"
    },
    "tags": []
   },
   "outputs": [],
   "source": []
  },
  {
   "cell_type": "code",
   "execution_count": null,
   "id": "81d8902c",
   "metadata": {
    "papermill": {
     "duration": 0.012142,
     "end_time": "2024-09-24T14:11:21.191822",
     "exception": false,
     "start_time": "2024-09-24T14:11:21.179680",
     "status": "completed"
    },
    "tags": []
   },
   "outputs": [],
   "source": []
  }
 ],
 "metadata": {
  "kaggle": {
   "accelerator": "none",
   "dataSources": [
    {
     "datasetId": 1623385,
     "sourceId": 2668247,
     "sourceType": "datasetVersion"
    }
   ],
   "dockerImageVersionId": 30775,
   "isGpuEnabled": false,
   "isInternetEnabled": false,
   "language": "python",
   "sourceType": "notebook"
  },
  "kernelspec": {
   "display_name": "Python 3",
   "language": "python",
   "name": "python3"
  },
  "language_info": {
   "codemirror_mode": {
    "name": "ipython",
    "version": 3
   },
   "file_extension": ".py",
   "mimetype": "text/x-python",
   "name": "python",
   "nbconvert_exporter": "python",
   "pygments_lexer": "ipython3",
   "version": "3.10.14"
  },
  "papermill": {
   "default_parameters": {},
   "duration": 8.606488,
   "end_time": "2024-09-24T14:11:21.825683",
   "environment_variables": {},
   "exception": null,
   "input_path": "__notebook__.ipynb",
   "output_path": "__notebook__.ipynb",
   "parameters": {},
   "start_time": "2024-09-24T14:11:13.219195",
   "version": "2.6.0"
  }
 },
 "nbformat": 4,
 "nbformat_minor": 5
}
